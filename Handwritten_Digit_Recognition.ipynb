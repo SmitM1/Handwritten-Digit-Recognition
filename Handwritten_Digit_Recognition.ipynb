{
  "nbformat": 4,
  "nbformat_minor": 0,
  "metadata": {
    "colab": {
      "provenance": [],
      "authorship_tag": "ABX9TyNjNCp79u33XWJLhSL7bJ5T",
      "include_colab_link": true
    },
    "kernelspec": {
      "name": "python3",
      "display_name": "Python 3"
    },
    "language_info": {
      "name": "python"
    }
  },
  "cells": [
    {
      "cell_type": "markdown",
      "metadata": {
        "id": "view-in-github",
        "colab_type": "text"
      },
      "source": [
        "<a href=\"https://colab.research.google.com/github/SmitM1/Handwritten-Digit-Recognition/blob/main/Handwritten_Digit_Recognition.ipynb\" target=\"_parent\"><img src=\"https://colab.research.google.com/assets/colab-badge.svg\" alt=\"Open In Colab\"/></a>"
      ]
    },
    {
      "cell_type": "code",
      "execution_count": 44,
      "metadata": {
        "id": "P44AXpiI-UE_"
      },
      "outputs": [],
      "source": [
        "from sklearn.datasets import fetch_openml\n",
        "import matplotlib.pyplot as plt\n",
        "import matplotlib\n",
        "import numpy as np\n",
        "from sklearn.linear_model import LogisticRegression\n",
        "from sklearn.model_selection import cross_val_score\n",
        "from sklearn.model_selection import cross_val_predict\n",
        "from sklearn.metrics import precision_score, recall_score\n",
        "from sklearn.metrics import f1_score\n",
        "from sklearn.metrics import precision_recall_curve\n",
        "from PIL import Image"
      ]
    },
    {
      "cell_type": "code",
      "source": [
        "mnist = fetch_openml('mnist_784', as_frame=False)"
      ],
      "metadata": {
        "colab": {
          "base_uri": "https://localhost:8080/"
        },
        "id": "l7nXcKBKBDLZ",
        "outputId": "c19b11df-04e1-408e-a0a2-a9c5b86b0654"
      },
      "execution_count": 2,
      "outputs": [
        {
          "output_type": "stream",
          "name": "stderr",
          "text": [
            "/usr/local/lib/python3.10/dist-packages/sklearn/datasets/_openml.py:968: FutureWarning: The default value of `parser` will change from `'liac-arff'` to `'auto'` in 1.4. You can set `parser='auto'` to silence this warning. Therefore, an `ImportError` will be raised from 1.4 if the dataset is dense and pandas is not installed. Note that the pandas parser may return different data types. See the Notes Section in fetch_openml's API doc for details.\n",
            "  warn(\n"
          ]
        }
      ]
    },
    {
      "cell_type": "code",
      "source": [
        "mnist.DESCR"
      ],
      "metadata": {
        "colab": {
          "base_uri": "https://localhost:8080/",
          "height": 109
        },
        "id": "oQibhVdYCD4g",
        "outputId": "08cea4b7-8282-4468-9826-c21e2d430826"
      },
      "execution_count": 3,
      "outputs": [
        {
          "output_type": "execute_result",
          "data": {
            "text/plain": [
              "\"**Author**: Yann LeCun, Corinna Cortes, Christopher J.C. Burges  \\n**Source**: [MNIST Website](http://yann.lecun.com/exdb/mnist/) - Date unknown  \\n**Please cite**:  \\n\\nThe MNIST database of handwritten digits with 784 features, raw data available at: http://yann.lecun.com/exdb/mnist/. It can be split in a training set of the first 60,000 examples, and a test set of 10,000 examples  \\n\\nIt is a subset of a larger set available from NIST. The digits have been size-normalized and centered in a fixed-size image. It is a good database for people who want to try learning techniques and pattern recognition methods on real-world data while spending minimal efforts on preprocessing and formatting. The original black and white (bilevel) images from NIST were size normalized to fit in a 20x20 pixel box while preserving their aspect ratio. The resulting images contain grey levels as a result of the anti-aliasing technique used by the normalization algorithm. the images were centered in a 28x28 image by computing the center of mass of the pixels, and translating the image so as to position this point at the center of the 28x28 field.  \\n\\nWith some classification methods (particularly template-based methods, such as SVM and K-nearest neighbors), the error rate improves when the digits are centered by bounding box rather than center of mass. If you do this kind of pre-processing, you should report it in your publications. The MNIST database was constructed from NIST's NIST originally designated SD-3 as their training set and SD-1 as their test set. However, SD-3 is much cleaner and easier to recognize than SD-1. The reason for this can be found on the fact that SD-3 was collected among Census Bureau employees, while SD-1 was collected among high-school students. Drawing sensible conclusions from learning experiments requires that the result be independent of the choice of training set and test among the complete set of samples. Therefore it was necessary to build a new database by mixing NIST's datasets.  \\n\\nThe MNIST training set is composed of 30,000 patterns from SD-3 and 30,000 patterns from SD-1. Our test set was composed of 5,000 patterns from SD-3 and 5,000 patterns from SD-1. The 60,000 pattern training set contained examples from approximately 250 writers. We made sure that the sets of writers of the training set and test set were disjoint. SD-1 contains 58,527 digit images written by 500 different writers. In contrast to SD-3, where blocks of data from each writer appeared in sequence, the data in SD-1 is scrambled. Writer identities for SD-1 is available and we used this information to unscramble the writers. We then split SD-1 in two: characters written by the first 250 writers went into our new training set. The remaining 250 writers were placed in our test set. Thus we had two sets with nearly 30,000 examples each. The new training set was completed with enough examples from SD-3, starting at pattern # 0, to make a full set of 60,000 training patterns. Similarly, the new test set was completed with SD-3 examples starting at pattern # 35,000 to make a full set with 60,000 test patterns. Only a subset of 10,000 test images (5,000 from SD-1 and 5,000 from SD-3) is available on this site. The full 60,000 sample training set is available.\\n\\nDownloaded from openml.org.\""
            ],
            "application/vnd.google.colaboratory.intrinsic+json": {
              "type": "string"
            }
          },
          "metadata": {},
          "execution_count": 3
        }
      ]
    },
    {
      "cell_type": "code",
      "source": [
        "X, y = mnist['data'], mnist['target']"
      ],
      "metadata": {
        "id": "gPezy-nFNRje"
      },
      "execution_count": 4,
      "outputs": []
    },
    {
      "cell_type": "code",
      "source": [
        "X"
      ],
      "metadata": {
        "colab": {
          "base_uri": "https://localhost:8080/"
        },
        "id": "z11Ts6Z1NpzF",
        "outputId": "e48dce71-c00b-4ac2-f1c8-20f3393502eb"
      },
      "execution_count": 5,
      "outputs": [
        {
          "output_type": "execute_result",
          "data": {
            "text/plain": [
              "array([[0., 0., 0., ..., 0., 0., 0.],\n",
              "       [0., 0., 0., ..., 0., 0., 0.],\n",
              "       [0., 0., 0., ..., 0., 0., 0.],\n",
              "       ...,\n",
              "       [0., 0., 0., ..., 0., 0., 0.],\n",
              "       [0., 0., 0., ..., 0., 0., 0.],\n",
              "       [0., 0., 0., ..., 0., 0., 0.]])"
            ]
          },
          "metadata": {},
          "execution_count": 5
        }
      ]
    },
    {
      "cell_type": "code",
      "source": [
        "y"
      ],
      "metadata": {
        "colab": {
          "base_uri": "https://localhost:8080/"
        },
        "id": "0qmVHfPkNqac",
        "outputId": "126c7a2f-141d-4af8-9deb-bdee53285187"
      },
      "execution_count": 6,
      "outputs": [
        {
          "output_type": "execute_result",
          "data": {
            "text/plain": [
              "array(['5', '0', '4', ..., '4', '5', '6'], dtype=object)"
            ]
          },
          "metadata": {},
          "execution_count": 6
        }
      ]
    },
    {
      "cell_type": "code",
      "source": [
        "X.shape"
      ],
      "metadata": {
        "colab": {
          "base_uri": "https://localhost:8080/"
        },
        "id": "tn_qfZFFNrhE",
        "outputId": "62b0ad9a-f33a-4153-f720-136fc6802ed6"
      },
      "execution_count": 7,
      "outputs": [
        {
          "output_type": "execute_result",
          "data": {
            "text/plain": [
              "(70000, 784)"
            ]
          },
          "metadata": {},
          "execution_count": 7
        }
      ]
    },
    {
      "cell_type": "code",
      "source": [
        "y.shape"
      ],
      "metadata": {
        "colab": {
          "base_uri": "https://localhost:8080/"
        },
        "id": "4D9LypD_Nz7V",
        "outputId": "e6ecbdde-64fc-4047-c592-a8a32759542a"
      },
      "execution_count": 8,
      "outputs": [
        {
          "output_type": "execute_result",
          "data": {
            "text/plain": [
              "(70000,)"
            ]
          },
          "metadata": {},
          "execution_count": 8
        }
      ]
    },
    {
      "cell_type": "code",
      "source": [
        "some_digit = X[36001]\n",
        "some_digit_img = some_digit.reshape(28, 28)"
      ],
      "metadata": {
        "id": "fE4oR6IuN25N"
      },
      "execution_count": 9,
      "outputs": []
    },
    {
      "cell_type": "code",
      "source": [
        "plt.imshow(some_digit_img, cmap=matplotlib.cm.binary, interpolation=\"nearest\")\n",
        "plt.axis(\"off\")"
      ],
      "metadata": {
        "colab": {
          "base_uri": "https://localhost:8080/",
          "height": 424
        },
        "id": "WKm1Q1ktOInt",
        "outputId": "2ad67726-cce7-4711-bb20-a61fd68d0596"
      },
      "execution_count": 10,
      "outputs": [
        {
          "output_type": "execute_result",
          "data": {
            "text/plain": [
              "(-0.5, 27.5, 27.5, -0.5)"
            ]
          },
          "metadata": {},
          "execution_count": 10
        },
        {
          "output_type": "display_data",
          "data": {
            "text/plain": [
              "<Figure size 640x480 with 1 Axes>"
            ],
            "image/png": "[encoded data removed]"
          },
          "metadata": {}
        }
      ]
    },
    {
      "cell_type": "code",
      "source": [
        "y[36001]"
      ],
      "metadata": {
        "colab": {
          "base_uri": "https://localhost:8080/",
          "height": 36
        },
        "id": "-bsqjS0BP2SE",
        "outputId": "3adde496-a80f-4b2e-815e-58adaca4a0a8"
      },
      "execution_count": 11,
      "outputs": [
        {
          "output_type": "execute_result",
          "data": {
            "text/plain": [
              "'2'"
            ],
            "application/vnd.google.colaboratory.intrinsic+json": {
              "type": "string"
            }
          },
          "metadata": {},
          "execution_count": 11
        }
      ]
    },
    {
      "cell_type": "code",
      "source": [
        "X_train, X_test = X[:60000], X[60000:]"
      ],
      "metadata": {
        "id": "auBW5xCiQt1s"
      },
      "execution_count": 12,
      "outputs": []
    },
    {
      "cell_type": "code",
      "source": [
        "y_train, y_test = y[:60000], y[60000:]"
      ],
      "metadata": {
        "id": "7tXDhNTeREHM"
      },
      "execution_count": 13,
      "outputs": []
    },
    {
      "cell_type": "code",
      "source": [
        "X_train"
      ],
      "metadata": {
        "colab": {
          "base_uri": "https://localhost:8080/"
        },
        "id": "q0F35nieRIbz",
        "outputId": "44a446ec-e912-4685-abc6-244d00e8e448"
      },
      "execution_count": 14,
      "outputs": [
        {
          "output_type": "execute_result",
          "data": {
            "text/plain": [
              "array([[0., 0., 0., ..., 0., 0., 0.],\n",
              "       [0., 0., 0., ..., 0., 0., 0.],\n",
              "       [0., 0., 0., ..., 0., 0., 0.],\n",
              "       ...,\n",
              "       [0., 0., 0., ..., 0., 0., 0.],\n",
              "       [0., 0., 0., ..., 0., 0., 0.],\n",
              "       [0., 0., 0., ..., 0., 0., 0.]])"
            ]
          },
          "metadata": {},
          "execution_count": 14
        }
      ]
    },
    {
      "cell_type": "code",
      "source": [
        "X_train.shape"
      ],
      "metadata": {
        "colab": {
          "base_uri": "https://localhost:8080/"
        },
        "id": "upED6Xs1RLyz",
        "outputId": "e597cfe0-6317-4caf-f6af-ba2ee2b580f3"
      },
      "execution_count": 15,
      "outputs": [
        {
          "output_type": "execute_result",
          "data": {
            "text/plain": [
              "(60000, 784)"
            ]
          },
          "metadata": {},
          "execution_count": 15
        }
      ]
    },
    {
      "cell_type": "code",
      "source": [
        "X_test.shape"
      ],
      "metadata": {
        "colab": {
          "base_uri": "https://localhost:8080/"
        },
        "id": "A5TKK7sPRQRj",
        "outputId": "295ef5a9-bdf5-45bd-e922-6896d8a30cd6"
      },
      "execution_count": 16,
      "outputs": [
        {
          "output_type": "execute_result",
          "data": {
            "text/plain": [
              "(10000, 784)"
            ]
          },
          "metadata": {},
          "execution_count": 16
        }
      ]
    },
    {
      "cell_type": "code",
      "source": [
        "y_train"
      ],
      "metadata": {
        "colab": {
          "base_uri": "https://localhost:8080/"
        },
        "id": "xATg62nhRRlD",
        "outputId": "9c542264-deb9-4a46-c525-b1e9e6b9372a"
      },
      "execution_count": 17,
      "outputs": [
        {
          "output_type": "execute_result",
          "data": {
            "text/plain": [
              "array(['5', '0', '4', ..., '5', '6', '8'], dtype=object)"
            ]
          },
          "metadata": {},
          "execution_count": 17
        }
      ]
    },
    {
      "cell_type": "code",
      "source": [
        "y_train.shape"
      ],
      "metadata": {
        "colab": {
          "base_uri": "https://localhost:8080/"
        },
        "id": "skBKQ0I3RUgL",
        "outputId": "485787e3-edaa-4d66-d934-cd4edb03e73b"
      },
      "execution_count": 18,
      "outputs": [
        {
          "output_type": "execute_result",
          "data": {
            "text/plain": [
              "(60000,)"
            ]
          },
          "metadata": {},
          "execution_count": 18
        }
      ]
    },
    {
      "cell_type": "code",
      "source": [
        "shuffle = np.random.permutation(60000)\n",
        "X_train, y_train = X_train[shuffle], y_train[shuffle]\n",
        "shuffle"
      ],
      "metadata": {
        "colab": {
          "base_uri": "https://localhost:8080/"
        },
        "id": "jETvzdfuRWtL",
        "outputId": "d7c82d9d-56cd-473f-976d-d8e6829a910e"
      },
      "execution_count": 19,
      "outputs": [
        {
          "output_type": "execute_result",
          "data": {
            "text/plain": [
              "array([33355, 37342, 50924, ...,  6815, 48914, 12583])"
            ]
          },
          "metadata": {},
          "execution_count": 19
        }
      ]
    },
    {
      "cell_type": "markdown",
      "source": [
        "## Creating a 2 Detector"
      ],
      "metadata": {
        "id": "uKdHT3YRR879"
      }
    },
    {
      "cell_type": "code",
      "source": [
        "#Converting string into int\n",
        "y_train = y_train.astype(np.int8)\n",
        "y_test = y_test.astype(np.int8)"
      ],
      "metadata": {
        "id": "kk8BcD5LTEj2"
      },
      "execution_count": 20,
      "outputs": []
    },
    {
      "cell_type": "code",
      "source": [
        "y_train_2 = (y_train==2)\n",
        "y_test_2 = (y_test==2)\n",
        "y_train_2"
      ],
      "metadata": {
        "colab": {
          "base_uri": "https://localhost:8080/"
        },
        "id": "yoBBkwhTRwbM",
        "outputId": "7e25e316-3c0c-4a93-ba55-f2aa758a75a5"
      },
      "execution_count": 21,
      "outputs": [
        {
          "output_type": "execute_result",
          "data": {
            "text/plain": [
              "array([False, False, False, ...,  True, False, False])"
            ]
          },
          "metadata": {},
          "execution_count": 21
        }
      ]
    },
    {
      "cell_type": "code",
      "source": [
        "model = LogisticRegression(tol = 0.1)"
      ],
      "metadata": {
        "id": "2pqIVCTOSJ9T"
      },
      "execution_count": 22,
      "outputs": []
    },
    {
      "cell_type": "code",
      "source": [
        "model.fit(X_train, y_train_2)"
      ],
      "metadata": {
        "colab": {
          "base_uri": "https://localhost:8080/",
          "height": 221
        },
        "id": "HXvaGt2oSwhD",
        "outputId": "d60157c7-1369-43ed-a6ae-97e21591a6af"
      },
      "execution_count": 23,
      "outputs": [
        {
          "output_type": "stream",
          "name": "stderr",
          "text": [
            "/usr/local/lib/python3.10/dist-packages/sklearn/linear_model/_logistic.py:458: ConvergenceWarning: lbfgs failed to converge (status=1):\n",
            "STOP: TOTAL NO. of ITERATIONS REACHED LIMIT.\n",
            "\n",
            "Increase the number of iterations (max_iter) or scale the data as shown in:\n",
            "    https://scikit-learn.org/stable/modules/preprocessing.html\n",
            "Please also refer to the documentation for alternative solver options:\n",
            "    https://scikit-learn.org/stable/modules/linear_model.html#logistic-regression\n",
            "  n_iter_i = _check_optimize_result(\n"
          ]
        },
        {
          "output_type": "execute_result",
          "data": {
            "text/plain": [
              "LogisticRegression(tol=0.1)"
            ],
            "text/html": [
              "<style>#sk-container-id-1 {color: black;background-color: white;}#sk-container-id-1 pre{padding: 0;}#sk-container-id-1 div.sk-toggleable {background-color: white;}#sk-container-id-1 label.sk-toggleable__label {cursor: pointer;display: block;width: 100%;margin-bottom: 0;padding: 0.3em;box-sizing: border-box;text-align: center;}#sk-container-id-1 label.sk-toggleable__label-arrow:before {content: \"▸\";float: left;margin-right: 0.25em;color: #696969;}#sk-container-id-1 label.sk-toggleable__label-arrow:hover:before {color: black;}#sk-container-id-1 div.sk-estimator:hover label.sk-toggleable__label-arrow:before {color: black;}#sk-container-id-1 div.sk-toggleable__content {max-height: 0;max-width: 0;overflow: hidden;text-align: left;background-color: #f0f8ff;}#sk-container-id-1 div.sk-toggleable__content pre {margin: 0.2em;color: black;border-radius: 0.25em;background-color: #f0f8ff;}#sk-container-id-1 input.sk-toggleable__control:checked~div.sk-toggleable__content {max-height: 200px;max-width: 100%;overflow: auto;}#sk-container-id-1 input.sk-toggleable__control:checked~label.sk-toggleable__label-arrow:before {content: \"▾\";}#sk-container-id-1 div.sk-estimator input.sk-toggleable__control:checked~label.sk-toggleable__label {background-color: #d4ebff;}#sk-container-id-1 div.sk-label input.sk-toggleable__control:checked~label.sk-toggleable__label {background-color: #d4ebff;}#sk-container-id-1 input.sk-hidden--visually {border: 0;clip: rect(1px 1px 1px 1px);clip: rect(1px, 1px, 1px, 1px);height: 1px;margin: -1px;overflow: hidden;padding: 0;position: absolute;width: 1px;}#sk-container-id-1 div.sk-estimator {font-family: monospace;background-color: #f0f8ff;border: 1px dotted black;border-radius: 0.25em;box-sizing: border-box;margin-bottom: 0.5em;}#sk-container-id-1 div.sk-estimator:hover {background-color: #d4ebff;}#sk-container-id-1 div.sk-parallel-item::after {content: \"\";width: 100%;border-bottom: 1px solid gray;flex-grow: 1;}#sk-container-id-1 div.sk-label:hover label.sk-toggleable__label {background-color: #d4ebff;}#sk-container-id-1 div.sk-serial::before {content: \"\";position: absolute;border-left: 1px solid gray;box-sizing: border-box;top: 0;bottom: 0;left: 50%;z-index: 0;}#sk-container-id-1 div.sk-serial {display: flex;flex-direction: column;align-items: center;background-color: white;padding-right: 0.2em;padding-left: 0.2em;position: relative;}#sk-container-id-1 div.sk-item {position: relative;z-index: 1;}#sk-container-id-1 div.sk-parallel {display: flex;align-items: stretch;justify-content: center;background-color: white;position: relative;}#sk-container-id-1 div.sk-item::before, #sk-container-id-1 div.sk-parallel-item::before {content: \"\";position: absolute;border-left: 1px solid gray;box-sizing: border-box;top: 0;bottom: 0;left: 50%;z-index: -1;}#sk-container-id-1 div.sk-parallel-item {display: flex;flex-direction: column;z-index: 1;position: relative;background-color: white;}#sk-container-id-1 div.sk-parallel-item:first-child::after {align-self: flex-end;width: 50%;}#sk-container-id-1 div.sk-parallel-item:last-child::after {align-self: flex-start;width: 50%;}#sk-container-id-1 div.sk-parallel-item:only-child::after {width: 0;}#sk-container-id-1 div.sk-dashed-wrapped {border: 1px dashed gray;margin: 0 0.4em 0.5em 0.4em;box-sizing: border-box;padding-bottom: 0.4em;background-color: white;}#sk-container-id-1 div.sk-label label {font-family: monospace;font-weight: bold;display: inline-block;line-height: 1.2em;}#sk-container-id-1 div.sk-label-container {text-align: center;}#sk-container-id-1 div.sk-container {/* jupyter's `normalize.less` sets `[hidden] { display: none; }` but bootstrap.min.css set `[hidden] { display: none !important; }` so we also need the `!important` here to be able to override the default hidden behavior on the sphinx rendered scikit-learn.org. See: https://github.com/scikit-learn/scikit-learn/issues/21755 */display: inline-block !important;position: relative;}#sk-container-id-1 div.sk-text-repr-fallback {display: none;}</style><div id=\"sk-container-id-1\" class=\"sk-top-container\"><div class=\"sk-text-repr-fallback\"><pre>LogisticRegression(tol=0.1)</pre><b>In a Jupyter environment, please rerun this cell to show the HTML representation or trust the notebook. <br />On GitHub, the HTML representation is unable to render, please try loading this page with nbviewer.org.</b></div><div class=\"sk-container\" hidden><div class=\"sk-item\"><div class=\"sk-estimator sk-toggleable\"><input class=\"sk-toggleable__control sk-hidden--visually\" id=\"sk-estimator-id-1\" type=\"checkbox\" checked><label for=\"sk-estimator-id-1\" class=\"sk-toggleable__label sk-toggleable__label-arrow\">LogisticRegression</label><div class=\"sk-toggleable__content\"><pre>LogisticRegression(tol=0.1)</pre></div></div></div></div></div>"
            ]
          },
          "metadata": {},
          "execution_count": 23
        }
      ]
    },
    {
      "cell_type": "code",
      "source": [
        "model.predict([some_digit])"
      ],
      "metadata": {
        "colab": {
          "base_uri": "https://localhost:8080/"
        },
        "id": "00wdALFiTbhU",
        "outputId": "7d16d86b-d4f1-4b69-f6fb-904730baa21a"
      },
      "execution_count": 24,
      "outputs": [
        {
          "output_type": "execute_result",
          "data": {
            "text/plain": [
              "array([ True])"
            ]
          },
          "metadata": {},
          "execution_count": 24
        }
      ]
    },
    {
      "cell_type": "code",
      "source": [
        "model.predict([X[36000]])"
      ],
      "metadata": {
        "colab": {
          "base_uri": "https://localhost:8080/"
        },
        "id": "dItDQnMbTqez",
        "outputId": "d2d976d4-d5e8-4e6e-9c11-9b8386900f90"
      },
      "execution_count": 25,
      "outputs": [
        {
          "output_type": "execute_result",
          "data": {
            "text/plain": [
              "array([False])"
            ]
          },
          "metadata": {},
          "execution_count": 25
        }
      ]
    },
    {
      "cell_type": "code",
      "source": [
        "a = cross_val_score(model, X_train, y_train_2, cv=3, scoring=\"accuracy\")"
      ],
      "metadata": {
        "colab": {
          "base_uri": "https://localhost:8080/"
        },
        "id": "b1GAq48zTvVT",
        "outputId": "e335ccda-ac2b-4725-d412-c79865b49284"
      },
      "execution_count": 26,
      "outputs": [
        {
          "output_type": "stream",
          "name": "stderr",
          "text": [
            "/usr/local/lib/python3.10/dist-packages/sklearn/linear_model/_logistic.py:458: ConvergenceWarning: lbfgs failed to converge (status=1):\n",
            "STOP: TOTAL NO. of ITERATIONS REACHED LIMIT.\n",
            "\n",
            "Increase the number of iterations (max_iter) or scale the data as shown in:\n",
            "    https://scikit-learn.org/stable/modules/preprocessing.html\n",
            "Please also refer to the documentation for alternative solver options:\n",
            "    https://scikit-learn.org/stable/modules/linear_model.html#logistic-regression\n",
            "  n_iter_i = _check_optimize_result(\n",
            "/usr/local/lib/python3.10/dist-packages/sklearn/linear_model/_logistic.py:458: ConvergenceWarning: lbfgs failed to converge (status=1):\n",
            "STOP: TOTAL NO. of ITERATIONS REACHED LIMIT.\n",
            "\n",
            "Increase the number of iterations (max_iter) or scale the data as shown in:\n",
            "    https://scikit-learn.org/stable/modules/preprocessing.html\n",
            "Please also refer to the documentation for alternative solver options:\n",
            "    https://scikit-learn.org/stable/modules/linear_model.html#logistic-regression\n",
            "  n_iter_i = _check_optimize_result(\n",
            "/usr/local/lib/python3.10/dist-packages/sklearn/linear_model/_logistic.py:458: ConvergenceWarning: lbfgs failed to converge (status=1):\n",
            "STOP: TOTAL NO. of ITERATIONS REACHED LIMIT.\n",
            "\n",
            "Increase the number of iterations (max_iter) or scale the data as shown in:\n",
            "    https://scikit-learn.org/stable/modules/preprocessing.html\n",
            "Please also refer to the documentation for alternative solver options:\n",
            "    https://scikit-learn.org/stable/modules/linear_model.html#logistic-regression\n",
            "  n_iter_i = _check_optimize_result(\n"
          ]
        }
      ]
    },
    {
      "cell_type": "code",
      "source": [
        "a.mean()"
      ],
      "metadata": {
        "colab": {
          "base_uri": "https://localhost:8080/"
        },
        "id": "uZMbK4fPVW5L",
        "outputId": "9911b9b9-50a6-447f-8aa6-668ebe9ae071"
      },
      "execution_count": 27,
      "outputs": [
        {
          "output_type": "execute_result",
          "data": {
            "text/plain": [
              "0.9781333333333334"
            ]
          },
          "metadata": {},
          "execution_count": 27
        }
      ]
    },
    {
      "cell_type": "code",
      "source": [
        "y_train_predictions = cross_val_predict(model, X_train, y_train_2, cv=3)"
      ],
      "metadata": {
        "id": "MwzhMlYmVtXr",
        "colab": {
          "base_uri": "https://localhost:8080/"
        },
        "outputId": "49288eca-8f17-42ff-acbe-3724fa68098f"
      },
      "execution_count": 28,
      "outputs": [
        {
          "output_type": "stream",
          "name": "stderr",
          "text": [
            "/usr/local/lib/python3.10/dist-packages/sklearn/linear_model/_logistic.py:458: ConvergenceWarning: lbfgs failed to converge (status=1):\n",
            "STOP: TOTAL NO. of ITERATIONS REACHED LIMIT.\n",
            "\n",
            "Increase the number of iterations (max_iter) or scale the data as shown in:\n",
            "    https://scikit-learn.org/stable/modules/preprocessing.html\n",
            "Please also refer to the documentation for alternative solver options:\n",
            "    https://scikit-learn.org/stable/modules/linear_model.html#logistic-regression\n",
            "  n_iter_i = _check_optimize_result(\n",
            "/usr/local/lib/python3.10/dist-packages/sklearn/linear_model/_logistic.py:458: ConvergenceWarning: lbfgs failed to converge (status=1):\n",
            "STOP: TOTAL NO. of ITERATIONS REACHED LIMIT.\n",
            "\n",
            "Increase the number of iterations (max_iter) or scale the data as shown in:\n",
            "    https://scikit-learn.org/stable/modules/preprocessing.html\n",
            "Please also refer to the documentation for alternative solver options:\n",
            "    https://scikit-learn.org/stable/modules/linear_model.html#logistic-regression\n",
            "  n_iter_i = _check_optimize_result(\n",
            "/usr/local/lib/python3.10/dist-packages/sklearn/linear_model/_logistic.py:458: ConvergenceWarning: lbfgs failed to converge (status=1):\n",
            "STOP: TOTAL NO. of ITERATIONS REACHED LIMIT.\n",
            "\n",
            "Increase the number of iterations (max_iter) or scale the data as shown in:\n",
            "    https://scikit-learn.org/stable/modules/preprocessing.html\n",
            "Please also refer to the documentation for alternative solver options:\n",
            "    https://scikit-learn.org/stable/modules/linear_model.html#logistic-regression\n",
            "  n_iter_i = _check_optimize_result(\n"
          ]
        }
      ]
    },
    {
      "cell_type": "code",
      "source": [
        "y_train_predictions"
      ],
      "metadata": {
        "colab": {
          "base_uri": "https://localhost:8080/"
        },
        "id": "n8Sxqn7fGsdj",
        "outputId": "8db73269-758a-404d-d222-d3934a84b3de"
      },
      "execution_count": 29,
      "outputs": [
        {
          "output_type": "execute_result",
          "data": {
            "text/plain": [
              "array([False, False, False, ...,  True, False, False])"
            ]
          },
          "metadata": {},
          "execution_count": 29
        }
      ]
    },
    {
      "cell_type": "markdown",
      "source": [
        "## Calculating Confusion Matrix"
      ],
      "metadata": {
        "id": "M30n-O_UHX51"
      }
    },
    {
      "cell_type": "code",
      "source": [
        "from sklearn.metrics import confusion_matrix"
      ],
      "metadata": {
        "id": "o2RtUpMKHCKr"
      },
      "execution_count": 30,
      "outputs": []
    },
    {
      "cell_type": "code",
      "source": [
        "confusion_matrix(y_train_2, y_train_predictions)"
      ],
      "metadata": {
        "colab": {
          "base_uri": "https://localhost:8080/"
        },
        "id": "P-uutZebHfzD",
        "outputId": "287ed5b6-1bac-4d4b-8919-c11063d8fc92"
      },
      "execution_count": 31,
      "outputs": [
        {
          "output_type": "execute_result",
          "data": {
            "text/plain": [
              "array([[53548,   494],\n",
              "       [  818,  5140]])"
            ]
          },
          "metadata": {},
          "execution_count": 31
        }
      ]
    },
    {
      "cell_type": "markdown",
      "source": [
        "## Precision and Recall"
      ],
      "metadata": {
        "id": "iGjxgvSZIM7U"
      }
    },
    {
      "cell_type": "code",
      "source": [
        "precision_score(y_train_2, y_train_predictions)"
      ],
      "metadata": {
        "colab": {
          "base_uri": "https://localhost:8080/"
        },
        "id": "KaJnqY0tHvBC",
        "outputId": "1b18dfb3-16cd-45ba-af62-348e594e15d8"
      },
      "execution_count": 32,
      "outputs": [
        {
          "output_type": "execute_result",
          "data": {
            "text/plain": [
              "0.9123180688675896"
            ]
          },
          "metadata": {},
          "execution_count": 32
        }
      ]
    },
    {
      "cell_type": "code",
      "source": [
        "recall_score(y_train_2, y_train_predictions)"
      ],
      "metadata": {
        "colab": {
          "base_uri": "https://localhost:8080/"
        },
        "id": "mZD9CyuwIpkC",
        "outputId": "318fc542-5f9b-4343-dfe3-c1ed189f1384"
      },
      "execution_count": 33,
      "outputs": [
        {
          "output_type": "execute_result",
          "data": {
            "text/plain": [
              "0.8627056059080228"
            ]
          },
          "metadata": {},
          "execution_count": 33
        }
      ]
    },
    {
      "cell_type": "markdown",
      "source": [
        "## F1 Score"
      ],
      "metadata": {
        "id": "qNkVQbuiI35n"
      }
    },
    {
      "cell_type": "code",
      "source": [
        "f1_score(y_train_2, y_train_predictions)"
      ],
      "metadata": {
        "colab": {
          "base_uri": "https://localhost:8080/"
        },
        "id": "zLSfJUYII3iD",
        "outputId": "cf0a5813-ea4c-4b0d-fd4b-f191956d3ca4"
      },
      "execution_count": 34,
      "outputs": [
        {
          "output_type": "execute_result",
          "data": {
            "text/plain": [
              "0.8868184955141477"
            ]
          },
          "metadata": {},
          "execution_count": 34
        }
      ]
    },
    {
      "cell_type": "markdown",
      "source": [
        "## Precision Recall Curve"
      ],
      "metadata": {
        "id": "dpoCnzE9Jcrl"
      }
    },
    {
      "cell_type": "code",
      "source": [
        "y_scores = cross_val_predict(model, X_train, y_train_2, cv=3, method=\"decision_function\")"
      ],
      "metadata": {
        "colab": {
          "base_uri": "https://localhost:8080/"
        },
        "id": "jDLSEIm0KB5y",
        "outputId": "b3e44c28-8f47-4939-9ddf-e06f7c06e4a5"
      },
      "execution_count": 35,
      "outputs": [
        {
          "output_type": "stream",
          "name": "stderr",
          "text": [
            "/usr/local/lib/python3.10/dist-packages/sklearn/linear_model/_logistic.py:458: ConvergenceWarning: lbfgs failed to converge (status=1):\n",
            "STOP: TOTAL NO. of ITERATIONS REACHED LIMIT.\n",
            "\n",
            "Increase the number of iterations (max_iter) or scale the data as shown in:\n",
            "    https://scikit-learn.org/stable/modules/preprocessing.html\n",
            "Please also refer to the documentation for alternative solver options:\n",
            "    https://scikit-learn.org/stable/modules/linear_model.html#logistic-regression\n",
            "  n_iter_i = _check_optimize_result(\n",
            "/usr/local/lib/python3.10/dist-packages/sklearn/linear_model/_logistic.py:458: ConvergenceWarning: lbfgs failed to converge (status=1):\n",
            "STOP: TOTAL NO. of ITERATIONS REACHED LIMIT.\n",
            "\n",
            "Increase the number of iterations (max_iter) or scale the data as shown in:\n",
            "    https://scikit-learn.org/stable/modules/preprocessing.html\n",
            "Please also refer to the documentation for alternative solver options:\n",
            "    https://scikit-learn.org/stable/modules/linear_model.html#logistic-regression\n",
            "  n_iter_i = _check_optimize_result(\n",
            "/usr/local/lib/python3.10/dist-packages/sklearn/linear_model/_logistic.py:458: ConvergenceWarning: lbfgs failed to converge (status=1):\n",
            "STOP: TOTAL NO. of ITERATIONS REACHED LIMIT.\n",
            "\n",
            "Increase the number of iterations (max_iter) or scale the data as shown in:\n",
            "    https://scikit-learn.org/stable/modules/preprocessing.html\n",
            "Please also refer to the documentation for alternative solver options:\n",
            "    https://scikit-learn.org/stable/modules/linear_model.html#logistic-regression\n",
            "  n_iter_i = _check_optimize_result(\n"
          ]
        }
      ]
    },
    {
      "cell_type": "code",
      "source": [
        "y_scores"
      ],
      "metadata": {
        "colab": {
          "base_uri": "https://localhost:8080/"
        },
        "id": "ZXElP9hlKaSl",
        "outputId": "45a13e57-da6a-4983-983c-5c9b5dc3ca7a"
      },
      "execution_count": 36,
      "outputs": [
        {
          "output_type": "execute_result",
          "data": {
            "text/plain": [
              "array([-15.34719227, -10.07167028,  -0.84279712, ...,   4.79528637,\n",
              "        -8.5636966 ,  -9.98788267])"
            ]
          },
          "metadata": {},
          "execution_count": 36
        }
      ]
    },
    {
      "cell_type": "code",
      "source": [
        "y_scores.shape"
      ],
      "metadata": {
        "colab": {
          "base_uri": "https://localhost:8080/"
        },
        "id": "5008ISfgKkfH",
        "outputId": "1821554c-b663-4100-b29d-9a2f786ef48f"
      },
      "execution_count": 37,
      "outputs": [
        {
          "output_type": "execute_result",
          "data": {
            "text/plain": [
              "(60000,)"
            ]
          },
          "metadata": {},
          "execution_count": 37
        }
      ]
    },
    {
      "cell_type": "code",
      "source": [
        "precisions, recalls, thresholds = precision_recall_curve(y_train_2, y_scores)"
      ],
      "metadata": {
        "id": "rhrOP4spIula"
      },
      "execution_count": 38,
      "outputs": []
    },
    {
      "cell_type": "code",
      "source": [
        "precisions"
      ],
      "metadata": {
        "colab": {
          "base_uri": "https://localhost:8080/"
        },
        "id": "srdQBZpdJwOS",
        "outputId": "9d8bf31c-8ba7-4ab0-f4dc-cd073262ba19"
      },
      "execution_count": 39,
      "outputs": [
        {
          "output_type": "execute_result",
          "data": {
            "text/plain": [
              "array([0.0993    , 0.09930166, 0.09930331, ..., 1.        , 1.        ,\n",
              "       1.        ])"
            ]
          },
          "metadata": {},
          "execution_count": 39
        }
      ]
    },
    {
      "cell_type": "code",
      "source": [
        "recalls"
      ],
      "metadata": {
        "colab": {
          "base_uri": "https://localhost:8080/"
        },
        "id": "9VUjxN6hJ1Pl",
        "outputId": "106cd2a1-ef30-4a2d-9e06-0e736dba1253"
      },
      "execution_count": 40,
      "outputs": [
        {
          "output_type": "execute_result",
          "data": {
            "text/plain": [
              "array([1.00000000e+00, 1.00000000e+00, 1.00000000e+00, ...,\n",
              "       3.35683115e-04, 1.67841558e-04, 0.00000000e+00])"
            ]
          },
          "metadata": {},
          "execution_count": 40
        }
      ]
    },
    {
      "cell_type": "code",
      "source": [
        "thresholds"
      ],
      "metadata": {
        "colab": {
          "base_uri": "https://localhost:8080/"
        },
        "id": "PfGvFRgAJ1-K",
        "outputId": "ddec9feb-09f4-4ef5-b674-89f5f8f01e92"
      },
      "execution_count": 41,
      "outputs": [
        {
          "output_type": "execute_result",
          "data": {
            "text/plain": [
              "array([-45.7956716 , -45.30480927, -45.30306373, ...,  18.74880628,\n",
              "        19.26758476,  19.93789779])"
            ]
          },
          "metadata": {},
          "execution_count": 41
        }
      ]
    },
    {
      "cell_type": "markdown",
      "source": [
        "## Plotting The Precision Recall Curve"
      ],
      "metadata": {
        "id": "kLODGUBjKyAs"
      }
    },
    {
      "cell_type": "code",
      "source": [
        "plt.plot(thresholds, precisions[: -1], 'b--', label='Precision')\n",
        "plt.plot(thresholds, recalls[: -1], 'g-', label='Recalls')\n",
        "plt.xlabel('Thresholds')\n",
        "plt.legend(loc='upper left')\n",
        "plt.ylim([0,1])\n",
        "plt.show()"
      ],
      "metadata": {
        "colab": {
          "base_uri": "https://localhost:8080/",
          "height": 455
        },
        "id": "6_-8LO3xJ2yp",
        "outputId": "ae118f16-b445-42bd-da02-46cc486d0a2c"
      },
      "execution_count": 42,
      "outputs": [
        {
          "output_type": "display_data",
          "data": {
            "text/plain": [
              "<Figure size 640x480 with 1 Axes>"
            ],
            "image/png": "[encoded data removed]"
          },
          "metadata": {}
        }
      ]
    },
    {
      "cell_type": "code",
      "source": [
        "image = Image.open('/content/New Project.png').convert('L')"
      ],
      "metadata": {
        "id": "C2aT8VP-LEIK"
      },
      "execution_count": 45,
      "outputs": []
    },
    {
      "cell_type": "code",
      "source": [
        "image"
      ],
      "metadata": {
        "colab": {
          "base_uri": "https://localhost:8080/",
          "height": 45
        },
        "id": "9G5AqU3Tgdgs",
        "outputId": "e855c8a7-e78c-48c0-e26c-1eca3641d592"
      },
      "execution_count": 46,
      "outputs": [
        {
          "output_type": "execute_result",
          "data": {
            "text/plain": [
              "<PIL.Image.Image image mode=L size=28x28>"
            ],
            "image/png": "[encoded data removed]"
          },
          "metadata": {},
          "execution_count": 46
        }
      ]
    },
    {
      "cell_type": "code",
      "source": [
        "image = np.array(image)\n",
        "image"
      ],
      "metadata": {
        "colab": {
          "base_uri": "https://localhost:8080/"
        },
        "id": "mx-8xjH3gp9c",
        "outputId": "78a7676f-ed8e-4215-9059-3db285b92d74"
      },
      "execution_count": 50,
      "outputs": [
        {
          "output_type": "execute_result",
          "data": {
            "text/plain": [
              "array([[156, 174, 183, 177, 183, 190, 183, 177, 175, 190, 195, 202, 208,\n",
              "        210, 208, 202, 195, 195, 195, 202, 202, 195, 195, 190, 177, 174,\n",
              "        174, 177],\n",
              "       [168, 183, 192, 183, 192, 183, 192, 183, 183, 192, 198, 208, 210,\n",
              "        210, 210, 208, 203, 203, 203, 208, 208, 203, 203, 198, 198, 192,\n",
              "        183, 179],\n",
              "       [185, 193, 185, 185, 193, 193, 198, 198, 193, 203, 209, 211, 211,\n",
              "        218, 218, 211, 209, 209, 211, 211, 209, 203, 203, 198, 193, 193,\n",
              "        185, 185],\n",
              "       [186, 186, 179, 193, 199, 193, 199, 204, 199, 169, 116, 153, 153,\n",
              "        143,  97, 199, 209, 210, 213, 218, 213, 204, 199, 199, 199, 186,\n",
              "        179, 179],\n",
              "       [179, 195, 179, 179, 200, 200, 199, 204,  99, 177, 219, 222, 222,\n",
              "        226, 226, 139,  99, 213, 219, 219, 219, 210, 205, 200, 200, 195,\n",
              "        182, 182],\n",
              "       [195, 195, 182, 188, 195, 205, 211, 163, 195, 219, 213, 213, 219,\n",
              "        227, 227, 223, 211,  89, 223, 223, 223, 214, 211, 211, 195, 188,\n",
              "        188, 188],\n",
              "       [202, 202, 189, 189, 202, 207, 211, 214, 220, 220, 224, 220, 224,\n",
              "        224, 227, 220, 220, 172, 179, 227, 220, 214, 213, 207, 202, 189,\n",
              "        189, 190],\n",
              "       [198, 203, 190, 190, 203, 207, 207, 207, 215, 220, 224, 224, 224,\n",
              "        224, 227, 224, 224, 215, 146, 230, 224, 215, 215, 208, 203, 186,\n",
              "        186, 186],\n",
              "       [192, 199, 199, 204, 208, 204, 204, 214, 216, 221, 221, 225, 225,\n",
              "        225, 225, 225, 229, 229, 153, 230, 225, 221, 214, 204, 204, 192,\n",
              "        185, 192],\n",
              "       [202, 200, 200, 200, 205, 205, 209, 217, 222, 222, 225, 222, 222,\n",
              "        229, 229, 225, 226, 226, 163, 234, 229, 226, 215, 210, 202, 189,\n",
              "        179, 179],\n",
              "       [203, 202, 195, 195, 202, 207, 210, 218, 223, 226, 223, 226, 230,\n",
              "        230, 230, 223, 226, 226, 158, 231, 231, 223, 216, 211, 207, 190,\n",
              "        188, 188],\n",
              "       [208, 204, 192, 203, 203, 208, 208, 217, 227, 230, 227, 227, 230,\n",
              "        231, 230, 224, 227, 218, 156, 230, 230, 224, 217, 213, 204, 192,\n",
              "        175, 175],\n",
              "       [209, 205, 209, 205, 204, 209, 209, 219, 224, 227, 227, 227, 230,\n",
              "        230, 230, 224, 230, 198, 150, 230, 230, 225, 218, 205, 199, 185,\n",
              "        177, 185],\n",
              "       [200, 207, 215, 210, 207, 210, 207, 218, 220, 229, 225, 225, 229,\n",
              "        231, 229, 225, 229, 163, 226, 226, 226, 220, 219, 210, 200, 179,\n",
              "        166, 179],\n",
              "       [202, 208, 216, 213, 211, 208, 216, 220, 221, 226, 230, 226, 230,\n",
              "        230, 230, 226, 220, 151, 230, 230, 227, 222, 220, 213, 209, 195,\n",
              "        177, 177],\n",
              "       [204, 210, 214, 214, 209, 203, 214, 221, 227, 230, 230, 227, 230,\n",
              "        230, 227, 223, 155, 230, 230, 227, 227, 221, 217, 214, 204, 192,\n",
              "        172, 172],\n",
              "       [202, 205, 211, 211, 205, 205, 215, 224, 230, 230, 230, 223, 227,\n",
              "        230, 227, 169, 202, 224, 224, 229, 224, 218, 215, 211, 207, 188,\n",
              "        171, 163],\n",
              "       [208, 208, 213, 213, 203, 203, 213, 223, 225, 229, 229, 225, 229,\n",
              "        232, 172, 200, 225, 225, 223, 225, 223, 217, 213, 213, 202, 179,\n",
              "        156, 156],\n",
              "       [199, 204, 209, 205, 203, 198, 209, 221, 224, 226, 226, 224, 230,\n",
              "        175, 203, 224, 224, 221, 225, 225, 218, 209, 204, 204, 192, 169,\n",
              "        150, 179],\n",
              "       [195, 195, 205, 205, 193, 182, 205, 210, 219, 225, 225, 204, 168,\n",
              "        222, 219, 219, 219, 219, 222, 222, 216, 207, 200, 205, 200, 172,\n",
              "        147, 155],\n",
              "       [192, 192, 195, 195, 185, 182, 202, 217, 220, 207, 163, 163, 220,\n",
              "        220, 211, 211, 217, 208, 217, 217, 213, 207, 203, 203, 192, 166,\n",
              "        141, 146],\n",
              "       [195, 186, 195, 199, 177, 177, 193, 204, 153, 153, 198, 214, 214,\n",
              "        214, 209, 209, 214, 209, 209, 210, 210, 199, 195, 195, 179, 161,\n",
              "        144, 150],\n",
              "       [192, 182, 190, 179, 134, 101, 104, 133, 210, 190, 177, 163, 171,\n",
              "        171, 163, 156, 171, 163, 156, 163, 163, 163, 179, 182, 163, 143,\n",
              "        143, 144],\n",
              "       [175, 182, 179,  36,  17,  63, 104, 109, 117, 117, 124, 117, 117,\n",
              "        117, 104, 104, 109, 117, 117, 109, 109, 104,  86,  80,  80, 139,\n",
              "        134, 141],\n",
              "       [138, 138, 155, 159, 179, 183, 183, 195, 202, 205, 205, 200, 200,\n",
              "        192, 177, 177, 186, 186, 192, 195, 193, 186, 159, 159, 150, 138,\n",
              "        133, 126],\n",
              "       [141, 128, 141, 153, 159, 169, 179, 189, 189, 195, 188, 188, 185,\n",
              "        179, 156, 156, 161, 168, 172, 172, 169, 163, 141, 141, 141, 129,\n",
              "        121, 121],\n",
              "       [139, 131, 131, 144, 131, 161, 156, 166, 177, 183, 175, 163, 171,\n",
              "        161, 143, 147, 147, 156, 156, 166, 163, 150, 138, 139, 146, 124,\n",
              "        119, 134],\n",
              "       [136, 116, 121, 126, 126, 134, 141, 141, 159, 159, 153, 141, 146,\n",
              "        141, 133, 133, 141, 141, 153, 159, 150, 143, 134, 128, 128, 112,\n",
              "        112, 119]], dtype=uint8)"
            ]
          },
          "metadata": {},
          "execution_count": 50
        }
      ]
    },
    {
      "cell_type": "code",
      "source": [
        "image = image.reshape(1, -1)\n",
        "image"
      ],
      "metadata": {
        "colab": {
          "base_uri": "https://localhost:8080/"
        },
        "id": "mR61fVeigs8M",
        "outputId": "f824445a-c88f-47fe-8100-eebf3280b8a7"
      },
      "execution_count": 53,
      "outputs": [
        {
          "output_type": "execute_result",
          "data": {
            "text/plain": [
              "array([[156, 174, 183, 177, 183, 190, 183, 177, 175, 190, 195, 202, 208,\n",
              "        210, 208, 202, 195, 195, 195, 202, 202, 195, 195, 190, 177, 174,\n",
              "        174, 177, 168, 183, 192, 183, 192, 183, 192, 183, 183, 192, 198,\n",
              "        208, 210, 210, 210, 208, 203, 203, 203, 208, 208, 203, 203, 198,\n",
              "        198, 192, 183, 179, 185, 193, 185, 185, 193, 193, 198, 198, 193,\n",
              "        203, 209, 211, 211, 218, 218, 211, 209, 209, 211, 211, 209, 203,\n",
              "        203, 198, 193, 193, 185, 185, 186, 186, 179, 193, 199, 193, 199,\n",
              "        204, 199, 169, 116, 153, 153, 143,  97, 199, 209, 210, 213, 218,\n",
              "        213, 204, 199, 199, 199, 186, 179, 179, 179, 195, 179, 179, 200,\n",
              "        200, 199, 204,  99, 177, 219, 222, 222, 226, 226, 139,  99, 213,\n",
              "        219, 219, 219, 210, 205, 200, 200, 195, 182, 182, 195, 195, 182,\n",
              "        188, 195, 205, 211, 163, 195, 219, 213, 213, 219, 227, 227, 223,\n",
              "        211,  89, 223, 223, 223, 214, 211, 211, 195, 188, 188, 188, 202,\n",
              "        202, 189, 189, 202, 207, 211, 214, 220, 220, 224, 220, 224, 224,\n",
              "        227, 220, 220, 172, 179, 227, 220, 214, 213, 207, 202, 189, 189,\n",
              "        190, 198, 203, 190, 190, 203, 207, 207, 207, 215, 220, 224, 224,\n",
              "        224, 224, 227, 224, 224, 215, 146, 230, 224, 215, 215, 208, 203,\n",
              "        186, 186, 186, 192, 199, 199, 204, 208, 204, 204, 214, 216, 221,\n",
              "        221, 225, 225, 225, 225, 225, 229, 229, 153, 230, 225, 221, 214,\n",
              "        204, 204, 192, 185, 192, 202, 200, 200, 200, 205, 205, 209, 217,\n",
              "        222, 222, 225, 222, 222, 229, 229, 225, 226, 226, 163, 234, 229,\n",
              "        226, 215, 210, 202, 189, 179, 179, 203, 202, 195, 195, 202, 207,\n",
              "        210, 218, 223, 226, 223, 226, 230, 230, 230, 223, 226, 226, 158,\n",
              "        231, 231, 223, 216, 211, 207, 190, 188, 188, 208, 204, 192, 203,\n",
              "        203, 208, 208, 217, 227, 230, 227, 227, 230, 231, 230, 224, 227,\n",
              "        218, 156, 230, 230, 224, 217, 213, 204, 192, 175, 175, 209, 205,\n",
              "        209, 205, 204, 209, 209, 219, 224, 227, 227, 227, 230, 230, 230,\n",
              "        224, 230, 198, 150, 230, 230, 225, 218, 205, 199, 185, 177, 185,\n",
              "        200, 207, 215, 210, 207, 210, 207, 218, 220, 229, 225, 225, 229,\n",
              "        231, 229, 225, 229, 163, 226, 226, 226, 220, 219, 210, 200, 179,\n",
              "        166, 179, 202, 208, 216, 213, 211, 208, 216, 220, 221, 226, 230,\n",
              "        226, 230, 230, 230, 226, 220, 151, 230, 230, 227, 222, 220, 213,\n",
              "        209, 195, 177, 177, 204, 210, 214, 214, 209, 203, 214, 221, 227,\n",
              "        230, 230, 227, 230, 230, 227, 223, 155, 230, 230, 227, 227, 221,\n",
              "        217, 214, 204, 192, 172, 172, 202, 205, 211, 211, 205, 205, 215,\n",
              "        224, 230, 230, 230, 223, 227, 230, 227, 169, 202, 224, 224, 229,\n",
              "        224, 218, 215, 211, 207, 188, 171, 163, 208, 208, 213, 213, 203,\n",
              "        203, 213, 223, 225, 229, 229, 225, 229, 232, 172, 200, 225, 225,\n",
              "        223, 225, 223, 217, 213, 213, 202, 179, 156, 156, 199, 204, 209,\n",
              "        205, 203, 198, 209, 221, 224, 226, 226, 224, 230, 175, 203, 224,\n",
              "        224, 221, 225, 225, 218, 209, 204, 204, 192, 169, 150, 179, 195,\n",
              "        195, 205, 205, 193, 182, 205, 210, 219, 225, 225, 204, 168, 222,\n",
              "        219, 219, 219, 219, 222, 222, 216, 207, 200, 205, 200, 172, 147,\n",
              "        155, 192, 192, 195, 195, 185, 182, 202, 217, 220, 207, 163, 163,\n",
              "        220, 220, 211, 211, 217, 208, 217, 217, 213, 207, 203, 203, 192,\n",
              "        166, 141, 146, 195, 186, 195, 199, 177, 177, 193, 204, 153, 153,\n",
              "        198, 214, 214, 214, 209, 209, 214, 209, 209, 210, 210, 199, 195,\n",
              "        195, 179, 161, 144, 150, 192, 182, 190, 179, 134, 101, 104, 133,\n",
              "        210, 190, 177, 163, 171, 171, 163, 156, 171, 163, 156, 163, 163,\n",
              "        163, 179, 182, 163, 143, 143, 144, 175, 182, 179,  36,  17,  63,\n",
              "        104, 109, 117, 117, 124, 117, 117, 117, 104, 104, 109, 117, 117,\n",
              "        109, 109, 104,  86,  80,  80, 139, 134, 141, 138, 138, 155, 159,\n",
              "        179, 183, 183, 195, 202, 205, 205, 200, 200, 192, 177, 177, 186,\n",
              "        186, 192, 195, 193, 186, 159, 159, 150, 138, 133, 126, 141, 128,\n",
              "        141, 153, 159, 169, 179, 189, 189, 195, 188, 188, 185, 179, 156,\n",
              "        156, 161, 168, 172, 172, 169, 163, 141, 141, 141, 129, 121, 121,\n",
              "        139, 131, 131, 144, 131, 161, 156, 166, 177, 183, 175, 163, 171,\n",
              "        161, 143, 147, 147, 156, 156, 166, 163, 150, 138, 139, 146, 124,\n",
              "        119, 134, 136, 116, 121, 126, 126, 134, 141, 141, 159, 159, 153,\n",
              "        141, 146, 141, 133, 133, 141, 141, 153, 159, 150, 143, 134, 128,\n",
              "        128, 112, 112, 119]], dtype=uint8)"
            ]
          },
          "metadata": {},
          "execution_count": 53
        }
      ]
    },
    {
      "cell_type": "code",
      "source": [
        "image = image.astype(np.int8)\n",
        "image"
      ],
      "metadata": {
        "colab": {
          "base_uri": "https://localhost:8080/"
        },
        "id": "VDDA1yotk-Wz",
        "outputId": "486a3027-258a-46e8-ae2b-0be1ff3cfdb0"
      },
      "execution_count": 55,
      "outputs": [
        {
          "output_type": "execute_result",
          "data": {
            "text/plain": [
              "array([[-100,  -82,  -73,  -79,  -73,  -66,  -73,  -79,  -81,  -66,  -61,\n",
              "         -54,  -48,  -46,  -48,  -54,  -61,  -61,  -61,  -54,  -54,  -61,\n",
              "         -61,  -66,  -79,  -82,  -82,  -79,  -88,  -73,  -64,  -73,  -64,\n",
              "         -73,  -64,  -73,  -73,  -64,  -58,  -48,  -46,  -46,  -46,  -48,\n",
              "         -53,  -53,  -53,  -48,  -48,  -53,  -53,  -58,  -58,  -64,  -73,\n",
              "         -77,  -71,  -63,  -71,  -71,  -63,  -63,  -58,  -58,  -63,  -53,\n",
              "         -47,  -45,  -45,  -38,  -38,  -45,  -47,  -47,  -45,  -45,  -47,\n",
              "         -53,  -53,  -58,  -63,  -63,  -71,  -71,  -70,  -70,  -77,  -63,\n",
              "         -57,  -63,  -57,  -52,  -57,  -87,  116, -103, -103, -113,   97,\n",
              "         -57,  -47,  -46,  -43,  -38,  -43,  -52,  -57,  -57,  -57,  -70,\n",
              "         -77,  -77,  -77,  -61,  -77,  -77,  -56,  -56,  -57,  -52,   99,\n",
              "         -79,  -37,  -34,  -34,  -30,  -30, -117,   99,  -43,  -37,  -37,\n",
              "         -37,  -46,  -51,  -56,  -56,  -61,  -74,  -74,  -61,  -61,  -74,\n",
              "         -68,  -61,  -51,  -45,  -93,  -61,  -37,  -43,  -43,  -37,  -29,\n",
              "         -29,  -33,  -45,   89,  -33,  -33,  -33,  -42,  -45,  -45,  -61,\n",
              "         -68,  -68,  -68,  -54,  -54,  -67,  -67,  -54,  -49,  -45,  -42,\n",
              "         -36,  -36,  -32,  -36,  -32,  -32,  -29,  -36,  -36,  -84,  -77,\n",
              "         -29,  -36,  -42,  -43,  -49,  -54,  -67,  -67,  -66,  -58,  -53,\n",
              "         -66,  -66,  -53,  -49,  -49,  -49,  -41,  -36,  -32,  -32,  -32,\n",
              "         -32,  -29,  -32,  -32,  -41, -110,  -26,  -32,  -41,  -41,  -48,\n",
              "         -53,  -70,  -70,  -70,  -64,  -57,  -57,  -52,  -48,  -52,  -52,\n",
              "         -42,  -40,  -35,  -35,  -31,  -31,  -31,  -31,  -31,  -27,  -27,\n",
              "        -103,  -26,  -31,  -35,  -42,  -52,  -52,  -64,  -71,  -64,  -54,\n",
              "         -56,  -56,  -56,  -51,  -51,  -47,  -39,  -34,  -34,  -31,  -34,\n",
              "         -34,  -27,  -27,  -31,  -30,  -30,  -93,  -22,  -27,  -30,  -41,\n",
              "         -46,  -54,  -67,  -77,  -77,  -53,  -54,  -61,  -61,  -54,  -49,\n",
              "         -46,  -38,  -33,  -30,  -33,  -30,  -26,  -26,  -26,  -33,  -30,\n",
              "         -30,  -98,  -25,  -25,  -33,  -40,  -45,  -49,  -66,  -68,  -68,\n",
              "         -48,  -52,  -64,  -53,  -53,  -48,  -48,  -39,  -29,  -26,  -29,\n",
              "         -29,  -26,  -25,  -26,  -32,  -29,  -38, -100,  -26,  -26,  -32,\n",
              "         -39,  -43,  -52,  -64,  -81,  -81,  -47,  -51,  -47,  -51,  -52,\n",
              "         -47,  -47,  -37,  -32,  -29,  -29,  -29,  -26,  -26,  -26,  -32,\n",
              "         -26,  -58, -106,  -26,  -26,  -31,  -38,  -51,  -57,  -71,  -79,\n",
              "         -71,  -56,  -49,  -41,  -46,  -49,  -46,  -49,  -38,  -36,  -27,\n",
              "         -31,  -31,  -27,  -25,  -27,  -31,  -27,  -93,  -30,  -30,  -30,\n",
              "         -36,  -37,  -46,  -56,  -77,  -90,  -77,  -54,  -48,  -40,  -43,\n",
              "         -45,  -48,  -40,  -36,  -35,  -30,  -26,  -30,  -26,  -26,  -26,\n",
              "         -30,  -36, -105,  -26,  -26,  -29,  -34,  -36,  -43,  -47,  -61,\n",
              "         -79,  -79,  -52,  -46,  -42,  -42,  -47,  -53,  -42,  -35,  -29,\n",
              "         -26,  -26,  -29,  -26,  -26,  -29,  -33, -101,  -26,  -26,  -29,\n",
              "         -29,  -35,  -39,  -42,  -52,  -64,  -84,  -84,  -54,  -51,  -45,\n",
              "         -45,  -51,  -51,  -41,  -32,  -26,  -26,  -26,  -33,  -29,  -26,\n",
              "         -29,  -87,  -54,  -32,  -32,  -27,  -32,  -38,  -41,  -45,  -49,\n",
              "         -68,  -85,  -93,  -48,  -48,  -43,  -43,  -53,  -53,  -43,  -33,\n",
              "         -31,  -27,  -27,  -31,  -27,  -24,  -84,  -56,  -31,  -31,  -33,\n",
              "         -31,  -33,  -39,  -43,  -43,  -54,  -77, -100, -100,  -57,  -52,\n",
              "         -47,  -51,  -53,  -58,  -47,  -35,  -32,  -30,  -30,  -32,  -26,\n",
              "         -81,  -53,  -32,  -32,  -35,  -31,  -31,  -38,  -47,  -52,  -52,\n",
              "         -64,  -87, -106,  -77,  -61,  -61,  -51,  -51,  -63,  -74,  -51,\n",
              "         -46,  -37,  -31,  -31,  -52,  -88,  -34,  -37,  -37,  -37,  -37,\n",
              "         -34,  -34,  -40,  -49,  -56,  -51,  -56,  -84, -109, -101,  -64,\n",
              "         -64,  -61,  -61,  -71,  -74,  -54,  -39,  -36,  -49,  -93,  -93,\n",
              "         -36,  -36,  -45,  -45,  -39,  -48,  -39,  -39,  -43,  -49,  -53,\n",
              "         -53,  -64,  -90, -115, -110,  -61,  -70,  -61,  -57,  -79,  -79,\n",
              "         -63,  -52, -103, -103,  -58,  -42,  -42,  -42,  -47,  -47,  -42,\n",
              "         -47,  -47,  -46,  -46,  -57,  -61,  -61,  -77,  -95, -112, -106,\n",
              "         -64,  -74,  -66,  -77, -122,  101,  104, -123,  -46,  -66,  -79,\n",
              "         -93,  -85,  -85,  -93, -100,  -85,  -93, -100,  -93,  -93,  -93,\n",
              "         -77,  -74,  -93, -113, -113, -112,  -81,  -74,  -77,   36,   17,\n",
              "          63,  104,  109,  117,  117,  124,  117,  117,  117,  104,  104,\n",
              "         109,  117,  117,  109,  109,  104,   86,   80,   80, -117, -122,\n",
              "        -115, -118, -118, -101,  -97,  -77,  -73,  -73,  -61,  -54,  -51,\n",
              "         -51,  -56,  -56,  -64,  -79,  -79,  -70,  -70,  -64,  -61,  -63,\n",
              "         -70,  -97,  -97, -106, -118, -123,  126, -115, -128, -115, -103,\n",
              "         -97,  -87,  -77,  -67,  -67,  -61,  -68,  -68,  -71,  -77, -100,\n",
              "        -100,  -95,  -88,  -84,  -84,  -87,  -93, -115, -115, -115, -127,\n",
              "         121,  121, -117, -125, -125, -112, -125,  -95, -100,  -90,  -79,\n",
              "         -73,  -81,  -93,  -85,  -95, -113, -109, -109, -100, -100,  -90,\n",
              "         -93, -106, -118, -117, -110,  124,  119, -122, -120,  116,  121,\n",
              "         126,  126, -122, -115, -115,  -97,  -97, -103, -115, -110, -115,\n",
              "        -123, -123, -115, -115, -103,  -97, -106, -113, -122, -128, -128,\n",
              "         112,  112,  119]], dtype=int8)"
            ]
          },
          "metadata": {},
          "execution_count": 55
        }
      ]
    },
    {
      "cell_type": "code",
      "source": [
        "predictions_new = model.predict(image)\n",
        "predictions_new"
      ],
      "metadata": {
        "colab": {
          "base_uri": "https://localhost:8080/"
        },
        "id": "dyzWoNnslGBL",
        "outputId": "71379ad0-ecf3-40aa-ef02-c3abee8361c0"
      },
      "execution_count": 57,
      "outputs": [
        {
          "output_type": "execute_result",
          "data": {
            "text/plain": [
              "array([ True])"
            ]
          },
          "metadata": {},
          "execution_count": 57
        }
      ]
    },
    {
      "cell_type": "code",
      "source": [
        "plt.imshow(image.reshape(28, 28), cmap=\"gray\")\n",
        "plt.title(f\"Predicted Label: {predictions_new[0]}\")\n",
        "plt.show()"
      ],
      "metadata": {
        "colab": {
          "base_uri": "https://localhost:8080/",
          "height": 452
        },
        "id": "bcoMTBmxlP9D",
        "outputId": "131f2ba9-a8e1-45c4-c904-beeed26bb9b6"
      },
      "execution_count": 58,
      "outputs": [
        {
          "output_type": "display_data",
          "data": {
            "text/plain": [
              "<Figure size 640x480 with 1 Axes>"
            ],
            "image/png": "[encoded data removed]"
          },
          "metadata": {}
        }
      ]
    },
    {
      "cell_type": "code",
      "source": [],
      "metadata": {
        "id": "HEJjGtPLloaT"
      },
      "execution_count": null,
      "outputs": []
    }
  ]
}